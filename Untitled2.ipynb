{
 "cells": [
  {
   "cell_type": "code",
   "execution_count": 2,
   "metadata": {},
   "outputs": [],
   "source": [
    "import pandas as pd\n",
    "from helpers import read_aqi as rd\n",
    "# read_aqi import all the csv data in a specific folder \n",
    "# and concat them to a single pd.Dataframe\n",
    "# for example, AA=rd.read_aqi(\"A Path\") will import every data in that path\n",
    "# and then return with a pd.Dataframe, AA"
   ]
  },
  {
   "cell_type": "code",
   "execution_count": 3,
   "metadata": {},
   "outputs": [
    {
     "name": "stdout",
     "output_type": "stream",
     "text": [
      "Start importing files from ./EPA_ERDB_2014\n",
      "Reading ./EPA_ERDB_2014/2014_ATM_MD_PSI_AQI_VALUES01.csv\n",
      "Reading ./EPA_ERDB_2014/2014_ATM_MD_PSI_AQI_VALUES03.csv\n",
      "Reading ./EPA_ERDB_2014/2014_ATM_MD_PSI_AQI_VALUES02.csv\n",
      "Reading ./EPA_ERDB_2014/2014_ATM_MD_PSI_AQI_VALUES06.csv\n",
      "Reading ./EPA_ERDB_2014/2014_ATM_MD_PSI_AQI_VALUES05.csv\n",
      "Reading ./EPA_ERDB_2014/2014_ATM_MD_PSI_AQI_VALUES04.csv\n",
      "Done importing files from ./EPA_ERDB_2014\n"
     ]
    }
   ],
   "source": [
    "aqi_2014=rd.read_aqi(\"./EPA_ERDB_2014\")\n",
    "aqi_2015=rd.read_aqi(\"./EPA_ERDB_2015\")\n",
    "aqi_2016=rd.read_aqi(\"./EPA_ERDB_2016\")\n",
    "aqi_2017=rd.read_aqi(\"./EPA_ERDB_2017\")"
   ]
  },
  {
   "cell_type": "code",
   "execution_count": 16,
   "metadata": {},
   "outputs": [
    {
     "data": {
      "text/plain": [
       "564474"
      ]
     },
     "execution_count": 16,
     "metadata": {},
     "output_type": "execute_result"
    }
   ],
   "source": [
    "len(aqi_2014)"
   ]
  },
  {
   "cell_type": "code",
   "execution_count": 15,
   "metadata": {},
   "outputs": [
    {
     "data": {
      "text/plain": [
       "1233460"
      ]
     },
     "execution_count": 15,
     "metadata": {},
     "output_type": "execute_result"
    }
   ],
   "source": [
    "len(aqi_2015)"
   ]
  },
  {
   "cell_type": "code",
   "execution_count": 14,
   "metadata": {},
   "outputs": [
    {
     "data": {
      "text/plain": [
       "1402217"
      ]
     },
     "execution_count": 14,
     "metadata": {},
     "output_type": "execute_result"
    }
   ],
   "source": [
    "len(aqi_2016)"
   ]
  },
  {
   "cell_type": "code",
   "execution_count": 13,
   "metadata": {},
   "outputs": [
    {
     "data": {
      "text/plain": [
       "2091464"
      ]
     },
     "execution_count": 13,
     "metadata": {},
     "output_type": "execute_result"
    }
   ],
   "source": [
    "len(aqi_2017)"
   ]
  },
  {
   "cell_type": "code",
   "execution_count": null,
   "metadata": {},
   "outputs": [],
   "source": []
  }
 ],
 "metadata": {
  "kernelspec": {
   "display_name": "Python 3",
   "language": "python",
   "name": "python3"
  },
  "language_info": {
   "codemirror_mode": {
    "name": "ipython",
    "version": 3
   },
   "file_extension": ".py",
   "mimetype": "text/x-python",
   "name": "python",
   "nbconvert_exporter": "python",
   "pygments_lexer": "ipython3",
   "version": "3.7.0"
  }
 },
 "nbformat": 4,
 "nbformat_minor": 2
}
