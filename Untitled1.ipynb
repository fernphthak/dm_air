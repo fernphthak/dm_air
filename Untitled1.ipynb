{
 "cells": [
  {
   "cell_type": "code",
   "execution_count": 3,
   "metadata": {},
   "outputs": [],
   "source": [
    "import pandas as pd"
   ]
  },
  {
   "cell_type": "code",
   "execution_count": 4,
   "metadata": {},
   "outputs": [],
   "source": [
    "# prepare data\n",
    "# read data from the excel file\n",
    "# dataframe = dfs_january1\n",
    "dfs_january1 = pd.read_excel(\"2017_AQ.xlsx\",\"january1\")\n",
    "\n",
    "# read data from the excel file\n",
    "# dataframe = dfs_january2\n",
    "dfs_january2 = pd.read_excel(\"2017_AQ.xlsx\",\"january14\")\n",
    "\n",
    "january = pd.concat([dfs_january1, dfs_january2])"
   ]
  },
  {
   "cell_type": "code",
   "execution_count": null,
   "metadata": {},
   "outputs": [],
   "source": []
  }
 ],
 "metadata": {
  "kernelspec": {
   "display_name": "Python 3",
   "language": "python",
   "name": "python3"
  },
  "language_info": {
   "codemirror_mode": {
    "name": "ipython",
    "version": 3
   },
   "file_extension": ".py",
   "mimetype": "text/x-python",
   "name": "python",
   "nbconvert_exporter": "python",
   "pygments_lexer": "ipython3",
   "version": "3.7.0"
  }
 },
 "nbformat": 4,
 "nbformat_minor": 2
}
