{
 "cells": [
  {
   "cell_type": "code",
   "execution_count": 1,
   "metadata": {},
   "outputs": [],
   "source": [
    "import numpy as np\n",
    "import os\n",
    "from helpers import rename_aqi as r"
   ]
  },
  {
   "cell_type": "code",
   "execution_count": 2,
   "metadata": {},
   "outputs": [
    {
     "data": {
      "text/plain": [
       "'/Users/phl/Documents/dev/dm_air/raw'"
      ]
     },
     "execution_count": 2,
     "metadata": {},
     "output_type": "execute_result"
    }
   ],
   "source": [
    "os.chdir(\"./raw\")\n",
    "os.getcwd()"
   ]
  },
  {
   "cell_type": "code",
   "execution_count": 3,
   "metadata": {},
   "outputs": [],
   "source": [
    "dir_list=[]\n",
    "string = str('ERDB_')\n",
    "for i in np.arange(0,2013-1998+1):\n",
    "    string += str(1998+i)\n",
    "    dir_list.append(string)\n",
    "    string = str('ERDB_')"
   ]
  },
  {
   "cell_type": "code",
   "execution_count": 4,
   "metadata": {},
   "outputs": [
    {
     "data": {
      "text/plain": [
       "['ERDB_1998',\n",
       " 'ERDB_1999',\n",
       " 'ERDB_2000',\n",
       " 'ERDB_2001',\n",
       " 'ERDB_2002',\n",
       " 'ERDB_2003',\n",
       " 'ERDB_2004',\n",
       " 'ERDB_2005',\n",
       " 'ERDB_2006',\n",
       " 'ERDB_2007',\n",
       " 'ERDB_2008',\n",
       " 'ERDB_2009',\n",
       " 'ERDB_2010',\n",
       " 'ERDB_2011',\n",
       " 'ERDB_2012',\n",
       " 'ERDB_2013']"
      ]
     },
     "execution_count": 4,
     "metadata": {},
     "output_type": "execute_result"
    }
   ],
   "source": [
    "dir_list"
   ]
  },
  {
   "cell_type": "code",
   "execution_count": 5,
   "metadata": {},
   "outputs": [
    {
     "name": "stdout",
     "output_type": "stream",
     "text": [
      "rename 87年離島監測站 to 1998-outlying\n",
      "rename 87年北部空品區 to 1998-north\n",
      "rename 87年中部空品區 to 1998-central\n",
      "rename 87年雲嘉南空品區 to 1998-yun_jia_nan\n",
      "rename 87年高屏空品區 to 1998-gao_ping\n",
      "rename 87年宜蘭空品區 to 1998-yilan\n",
      "rename 87年花東空品區 to 1998-hua_dong\n",
      "rename 87年竹苗空品區 to 1998-zhu_miao\n",
      "rename 88年竹苗空品區 to 1999-zhu_miao\n",
      "rename 88年花東空品區 to 1999-hua_dong\n",
      "rename 88年宜蘭空品區 to 1999-yilan\n",
      "rename 88年北部空品區 to 1999-north\n",
      "rename 88年中部空品區 to 1999-central\n",
      "rename 88年離島監測站 to 1999-outlying\n",
      "rename 88年雲嘉南空品區 to 1999-yun_jia_nan\n",
      "rename 88年高屏空品區 to 1999-gao_ping\n",
      "rename 89年花東空品區 to 2000-hua_dong\n",
      "rename 89年竹苗空品區 to 2000-zhu_miao\n",
      "rename 89年宜蘭空品區 to 2000-yilan\n",
      "rename 89年雲嘉南空品區 to 2000-yun_jia_nan\n",
      "rename 89年高屏空品區 to 2000-gao_ping\n",
      "rename 89年離島監測站 to 2000-outlying\n",
      "rename 89年北部空品區 to 2000-north\n",
      "rename 89年中部空品區 to 2000-central\n",
      "rename 90年花東空品區 to 2001-hua_dong\n",
      "rename 90年竹苗空品區 to 2001-zhu_miao\n",
      "rename 90年宜蘭空品區 to 2001-yilan\n",
      "rename 90年高屏空品區 to 2001-gao_ping\n",
      "rename 90年雲嘉南空品區 to 2001-yun_jia_nan\n",
      "rename 90年離島監測站 to 2001-outlying\n",
      "rename 90年中部空品區 to 2001-central\n",
      "rename 90年北部空品區 to 2001-north\n",
      "rename 91年雲嘉南空品區 to 2002-yun_jia_nan\n",
      "rename 91年竹苗空品區 to 2002-zhu_miao\n",
      "rename 91年花東空品區 to 2002-hua_dong\n",
      "rename 91年宜蘭空品區 to 2002-yilan\n",
      "rename 91年中部空品區 to 2002-central\n",
      "rename 91年北部空品區 to 2002-north\n",
      "rename 91年離島監測站 to 2002-outlying\n",
      "rename 91年高屏空品區 to 2002-gao_ping\n",
      "rename 92年竹苗空品區 to 2003-zhu_miao\n",
      "rename 92年花東空品區 to 2003-hua_dong\n",
      "rename 92年宜蘭空品區 to 2003-yilan\n",
      "rename 92年高屏空品區 to 2003-gao_ping\n",
      "rename 92年雲嘉南空品區 to 2003-yun_jia_nan\n",
      "rename 92年離島測站 to 2003-None\n",
      "rename 92年北部空品區 to 2003-north\n",
      "rename 92年中部空品區 to 2003-central\n",
      "rename 93年雲嘉南空品區 to 2004-yun_jia_nan\n",
      "rename 93年花東空品區 to 2004-hua_dong\n",
      "rename 93年竹苗空品區 to 2004-zhu_miao\n",
      "rename 93年宜蘭空品區 to 2004-yilan\n",
      "rename 93年離島監測站 to 2004-outlying\n",
      "rename 93年北部空品區 to 2004-north\n",
      "rename 93年中部空品區 to 2004-central\n",
      "rename 93年高屏空品區 to 2004-gao_ping\n",
      "rename 94年宜蘭空品區 to 2005-yilan\n",
      "rename 94年竹苗空品區 to 2005-zhu_miao\n",
      "rename 94年花東空品區 to 2005-hua_dong\n",
      "rename 94年高屏空品區 to 2005-gao_ping\n",
      "rename 94年北部空品區 to 2005-north\n",
      "rename 94年中部空品區 to 2005-central\n",
      "rename 94年離島監測站 to 2005-outlying\n",
      "rename 94年雲嘉南空品區 to 2005-yun_jia_nan\n",
      "rename 95年宜蘭空品區 to 2006-yilan\n",
      "rename 95年花東空品區 to 2006-hua_dong\n",
      "rename 95年雲嘉南空品區 to 2006-yun_jia_nan\n",
      "rename 95年竹苗空品區 to 2006-zhu_miao\n",
      "rename 95年離島監測站 to 2006-outlying\n",
      "rename 95年北部空品區 to 2006-north\n",
      "rename 95年中部空品區 to 2006-central\n",
      "rename 95年高屏空品區 to 2006-gao_ping\n",
      "rename 96年宜蘭空品區 to 2007-yilan\n",
      "rename 96年花東空品區 to 2007-hua_dong\n",
      "rename 96年竹苗空品區 to 2007-zhu_miao\n",
      "rename 96年高屏空品區 to 2007-gao_ping\n",
      "rename 96年雲嘉南空品區 to 2007-yun_jia_nan\n",
      "rename 96年離島監測站 to 2007-outlying\n",
      "rename 96年中部空品區 to 2007-central\n",
      "rename 96年北部空品區 to 2007-north\n",
      "rename 97年 花東空品區 to 2008-hua_dong\n",
      "rename 97年 竹苗空品區 to 2008-zhu_miao\n",
      "rename 97年 宜蘭空品區 to 2008-yilan\n",
      "rename 97年 雲嘉南空品區 to 2008-yun_jia_nan\n",
      "rename 97年 高屏空品區 to 2008-gao_ping\n",
      "rename 97年 離島監測站 to 2008-outlying\n",
      "rename 97年 北部空品區 to 2008-north\n",
      "rename 97年 中部空品區 to 2008-central\n",
      "rename 98年 高屏空品區 to 2009-gao_ping\n",
      "rename 98年 離島監測站 to 2009-outlying\n",
      "rename 98年 中部空品區 to 2009-central\n",
      "rename 98年 北部空品區 to 2009-north\n",
      "rename 98年 宜蘭空品區 to 2009-yilan\n",
      "rename 98年 花東空品區 to 2009-hua_dong\n",
      "rename 98年 竹苗空品區 to 2009-zhu_miao\n",
      "rename 98年 雲嘉南空品區 to 2009-yun_jia_nan\n",
      "rename 99年 宜蘭空品區 to 2010-yilan\n",
      "rename 99年 竹苗空品區 to 2010-zhu_miao\n",
      "rename 99年 花東空品區 to 2010-hua_dong\n",
      "rename 99年 高屏空品區 to 2010-gao_ping\n",
      "rename 99年 北部空品區 to 2010-north\n",
      "rename 99年 雲嘉南空品區 to 2010-yun_jia_nan\n",
      "rename 99年 中部空品區 to 2010-central\n",
      "rename 99年 離島監測站 to 2010-outlying\n",
      "rename 100年 高屏空品區 to 2011-gao_ping\n",
      "rename 100年 離島監測站 to 2011-outlying\n",
      "rename 100年 北部空品區 to 2011-north\n",
      "rename 100年 中部空品區 to 2011-central\n",
      "rename 100年 花東空品區 to 2011-hua_dong\n",
      "rename 100年 竹苗空品區 to 2011-zhu_miao\n",
      "rename 100年 宜蘭空品區 to 2011-yilan\n",
      "rename 100年 雲嘉南空品區 to 2011-yun_jia_nan\n",
      "rename 101年 竹苗空品區 to 2012-zhu_miao\n",
      "rename 101年 花東空品區 to 2012-hua_dong\n",
      "rename 101年 宜蘭空品區 to 2012-yilan\n",
      "rename 101年 高屏空品區 to 2012-gao_ping\n",
      "rename 101年 中部空品區 to 2012-central\n",
      "rename 101年 雲嘉南空品區 to 2012-yun_jia_nan\n",
      "rename 101年 北部空品區 to 2012-north\n",
      "rename 101年 離島監測站 to 2012-outlying\n",
      "rename 102年 高屏空品區 to 2013-gao_ping\n",
      "rename 102年 北部空品區 to 2013-north\n",
      "rename 102年 中部空品區 to 2013-central\n",
      "rename 102年 離島監測站 to 2013-outlying\n",
      "rename 102年 宜蘭空品區 to 2013-yilan\n",
      "rename 102年 竹苗空品區 to 2013-zhu_miao\n",
      "rename 102年 花東空品區 to 2013-hua_dong\n",
      "rename 102年 雲嘉南空品區 to 2013-yun_jia_nan\n"
     ]
    }
   ],
   "source": [
    "for i in np.arange(0,2013-1998+1):\n",
    "    r.rename_aqi(dir_list[i],1998+i)"
   ]
  }
 ],
 "metadata": {
  "kernelspec": {
   "display_name": "Python 3",
   "language": "python",
   "name": "python3"
  },
  "language_info": {
   "codemirror_mode": {
    "name": "ipython",
    "version": 3
   },
   "file_extension": ".py",
   "mimetype": "text/x-python",
   "name": "python",
   "nbconvert_exporter": "python",
   "pygments_lexer": "ipython3",
   "version": "3.6.5"
  }
 },
 "nbformat": 4,
 "nbformat_minor": 2
}
