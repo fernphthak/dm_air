{
 "cells": [
  {
   "cell_type": "code",
   "execution_count": 1,
   "metadata": {},
   "outputs": [],
   "source": [
    "import pandas as pd\n",
    "from helpers import read_aqi as rd\n",
    "# read_aqi import all the csv data in a specific folder \n",
    "# and concat them to a single pd.Dataframe\n",
    "# for example, AA=rd.read_aqi(\"A Path\") will import every data in that path\n",
    "# and then return with a pd.Dataframe, AA"
   ]
  },
  {
   "cell_type": "code",
   "execution_count": 2,
   "metadata": {},
   "outputs": [
    {
     "name": "stdout",
     "output_type": "stream",
     "text": [
      "Start importing files from ./EPA_ERDB_2014\n",
      "Reading ./EPA_ERDB_2014/2014_ATM_MD_PSI_AQI_VALUES01.csv\n",
      "Reading ./EPA_ERDB_2014/2014_ATM_MD_PSI_AQI_VALUES03.csv\n",
      "Reading ./EPA_ERDB_2014/2014_ATM_MD_PSI_AQI_VALUES02.csv\n",
      "Reading ./EPA_ERDB_2014/2014_ATM_MD_PSI_AQI_VALUES06.csv\n",
      "Reading ./EPA_ERDB_2014/2014_ATM_MD_PSI_AQI_VALUES05.csv\n",
      "Reading ./EPA_ERDB_2014/2014_ATM_MD_PSI_AQI_VALUES04.csv\n",
      "Done importing files from ./EPA_ERDB_2014\n",
      "Start importing files from ./EPA_ERDB_2015\n",
      "Reading ./EPA_ERDB_2015/2015_ATM_MD_PSI_AQI_VALUES03.csv\n",
      "Reading ./EPA_ERDB_2015/2015_ATM_MD_PSI_AQI_VALUES02.csv\n",
      "Reading ./EPA_ERDB_2015/2015_ATM_MD_PSI_AQI_VALUES01.csv\n",
      "Reading ./EPA_ERDB_2015/2015_ATM_MD_PSI_AQI_VALUES11.csv\n",
      "Reading ./EPA_ERDB_2015/2015_ATM_MD_PSI_AQI_VALUES05.csv\n",
      "Reading ./EPA_ERDB_2015/2015_ATM_MD_PSI_AQI_VALUES04.csv\n",
      "Reading ./EPA_ERDB_2015/2015_ATM_MD_PSI_AQI_VALUES10.csv\n",
      "Reading ./EPA_ERDB_2015/2015_ATM_MD_PSI_AQI_VALUES06.csv\n",
      "Reading ./EPA_ERDB_2015/2015_ATM_MD_PSI_AQI_VALUES12.csv\n",
      "Reading ./EPA_ERDB_2015/2015_ATM_MD_PSI_AQI_VALUES13.csv\n",
      "Reading ./EPA_ERDB_2015/2015_ATM_MD_PSI_AQI_VALUES07.csv\n",
      "Reading ./EPA_ERDB_2015/2015_ATM_MD_PSI_AQI_VALUES09.csv\n",
      "Reading ./EPA_ERDB_2015/2015_ATM_MD_PSI_AQI_VALUES08.csv\n",
      "Done importing files from ./EPA_ERDB_2015\n",
      "Start importing files from ./EPA_ERDB_2016\n",
      "Reading ./EPA_ERDB_2016/2016_ATM_MD_PSI_AQI_VALUES09.csv\n",
      "Reading ./EPA_ERDB_2016/2016_ATM_MD_PSI_AQI_VALUES08.csv\n"
     ]
    },
    {
     "name": "stderr",
     "output_type": "stream",
     "text": [
      "/usr/local/lib/python3.6/site-packages/IPython/core/interactiveshell.py:3185: DtypeWarning: Columns (29) have mixed types. Specify dtype option on import or set low_memory=False.\n",
      "  if (yield from self.run_code(code, result)):\n"
     ]
    },
    {
     "name": "stdout",
     "output_type": "stream",
     "text": [
      "Reading ./EPA_ERDB_2016/2016_ATM_MD_PSI_AQI_VALUES12.csv\n",
      "Reading ./EPA_ERDB_2016/2016_ATM_MD_PSI_AQI_VALUES06.csv\n",
      "Reading ./EPA_ERDB_2016/2016_ATM_MD_PSI_AQI_VALUES07.csv\n",
      "Reading ./EPA_ERDB_2016/2016_ATM_MD_PSI_AQI_VALUES13.csv\n",
      "Reading ./EPA_ERDB_2016/2016_ATM_MD_PSI_AQI_VALUES05.csv\n",
      "Reading ./EPA_ERDB_2016/2016_ATM_MD_PSI_AQI_VALUES11.csv\n",
      "Reading ./EPA_ERDB_2016/2016_ATM_MD_PSI_AQI_VALUES10.csv\n",
      "Reading ./EPA_ERDB_2016/2016_ATM_MD_PSI_AQI_VALUES04.csv\n",
      "Reading ./EPA_ERDB_2016/2016_ATM_MD_PSI_AQI_VALUES14.csv\n",
      "Reading ./EPA_ERDB_2016/2016_ATM_MD_PSI_AQI_VALUES01.csv\n",
      "Reading ./EPA_ERDB_2016/2016_ATM_MD_PSI_AQI_VALUES03.csv\n",
      "Reading ./EPA_ERDB_2016/2016_ATM_MD_PSI_AQI_VALUES02.csv\n",
      "Done importing files from ./EPA_ERDB_2016\n",
      "Start importing files from ./EPA_ERDB_2017\n",
      "Reading ./EPA_ERDB_2017/2017_ATM_MD_PSI_AQI_VALUES18.csv\n",
      "Reading ./EPA_ERDB_2017/2017_ATM_MD_PSI_AQI_VALUES19.csv\n",
      "Reading ./EPA_ERDB_2017/2017_ATM_MD_PSI_AQI_VALUES09.csv\n",
      "Reading ./EPA_ERDB_2017/2017_ATM_MD_PSI_AQI_VALUES21.csv\n",
      "Reading ./EPA_ERDB_2017/2017_ATM_MD_PSI_AQI_VALUES20.csv\n",
      "Reading ./EPA_ERDB_2017/2017_ATM_MD_PSI_AQI_VALUES08.csv\n",
      "Reading ./EPA_ERDB_2017/2017_ATM_MD_PSI_AQI_VALUES11.csv\n",
      "Reading ./EPA_ERDB_2017/2017_ATM_MD_PSI_AQI_VALUES05.csv\n",
      "Reading ./EPA_ERDB_2017/2017_ATM_MD_PSI_AQI_VALUES04.csv\n",
      "Reading ./EPA_ERDB_2017/2017_ATM_MD_PSI_AQI_VALUES10.csv\n",
      "Reading ./EPA_ERDB_2017/2017_ATM_MD_PSI_AQI_VALUES06.csv\n",
      "Reading ./EPA_ERDB_2017/2017_ATM_MD_PSI_AQI_VALUES12.csv\n",
      "Reading ./EPA_ERDB_2017/2017_ATM_MD_PSI_AQI_VALUES13.csv\n",
      "Reading ./EPA_ERDB_2017/2017_ATM_MD_PSI_AQI_VALUES07.csv\n",
      "Reading ./EPA_ERDB_2017/2017_ATM_MD_PSI_AQI_VALUES03.csv\n",
      "Reading ./EPA_ERDB_2017/2017_ATM_MD_PSI_AQI_VALUES17.csv\n"
     ]
    },
    {
     "name": "stderr",
     "output_type": "stream",
     "text": [
      "/usr/local/lib/python3.6/site-packages/IPython/core/interactiveshell.py:3185: DtypeWarning: Columns (13,14,15,16,17,18,19,20) have mixed types. Specify dtype option on import or set low_memory=False.\n",
      "  if (yield from self.run_code(code, result)):\n"
     ]
    },
    {
     "name": "stdout",
     "output_type": "stream",
     "text": [
      "Reading ./EPA_ERDB_2017/2017_ATM_MD_PSI_AQI_VALUES16.csv\n",
      "Reading ./EPA_ERDB_2017/2017_ATM_MD_PSI_AQI_VALUES02.csv\n",
      "Reading ./EPA_ERDB_2017/2017_ATM_MD_PSI_AQI_VALUES14.csv\n",
      "Reading ./EPA_ERDB_2017/2017_ATM_MD_PSI_AQI_VALUES01.csv\n",
      "Reading ./EPA_ERDB_2017/2017_ATM_MD_PSI_AQI_VALUES15.csv\n",
      "Done importing files from ./EPA_ERDB_2017\n"
     ]
    }
   ],
   "source": [
    "aqi_2014=rd.read_aqi(\"./EPA_ERDB_2014\")\n",
    "aqi_2015=rd.read_aqi(\"./EPA_ERDB_2015\")\n",
    "aqi_2016=rd.read_aqi(\"./EPA_ERDB_2016\")\n",
    "aqi_2017=rd.read_aqi(\"./EPA_ERDB_2017\")"
   ]
  },
  {
   "cell_type": "code",
   "execution_count": 3,
   "metadata": {},
   "outputs": [
    {
     "data": {
      "text/plain": [
       "564474"
      ]
     },
     "execution_count": 3,
     "metadata": {},
     "output_type": "execute_result"
    }
   ],
   "source": [
    "len(aqi_2014)"
   ]
  },
  {
   "cell_type": "code",
   "execution_count": 4,
   "metadata": {},
   "outputs": [
    {
     "data": {
      "text/plain": [
       "1233460"
      ]
     },
     "execution_count": 4,
     "metadata": {},
     "output_type": "execute_result"
    }
   ],
   "source": [
    "len(aqi_2015)"
   ]
  },
  {
   "cell_type": "code",
   "execution_count": 5,
   "metadata": {},
   "outputs": [
    {
     "data": {
      "text/plain": [
       "1402217"
      ]
     },
     "execution_count": 5,
     "metadata": {},
     "output_type": "execute_result"
    }
   ],
   "source": [
    "len(aqi_2016)"
   ]
  },
  {
   "cell_type": "code",
   "execution_count": 6,
   "metadata": {},
   "outputs": [
    {
     "data": {
      "text/plain": [
       "2091464"
      ]
     },
     "execution_count": 6,
     "metadata": {},
     "output_type": "execute_result"
    }
   ],
   "source": [
    "len(aqi_2017)"
   ]
  },
  {
   "cell_type": "code",
   "execution_count": 7,
   "metadata": {},
   "outputs": [
    {
     "data": {
      "text/plain": [
       "['index',\n",
       " 'SITEID',\n",
       " 'COUNTYID',\n",
       " 'PSI',\n",
       " 'POLLUTANT',\n",
       " 'STATUS',\n",
       " 'SO2',\n",
       " 'CO',\n",
       " 'O3',\n",
       " 'PM10',\n",
       " 'PM25',\n",
       " 'NO2',\n",
       " 'WINDSPEED',\n",
       " 'WINDDIREC',\n",
       " 'SO2_UNIT',\n",
       " 'CO_UNIT',\n",
       " 'O3_UNIT',\n",
       " 'PM10_UNIT',\n",
       " 'PM25_UNIT',\n",
       " 'NO2_UNIT',\n",
       " 'WINDSPEED_UNIT',\n",
       " 'WINDDIREC_UNIT',\n",
       " 'DATACREATIONDATE',\n",
       " 'FPMI',\n",
       " 'UPDATETIME',\n",
       " 'TRANSACTIONID',\n",
       " 'ISCONVERTED',\n",
       " 'NO',\n",
       " 'AQI',\n",
       " 'O3_8HR',\n",
       " 'UNIT',\n",
       " 'CO_8HR',\n",
       " 'PM10_AVG',\n",
       " 'PM25_AVG',\n",
       " 'NOX',\n",
       " 'NO_VALUE',\n",
       " 'FID']"
      ]
     },
     "execution_count": 7,
     "metadata": {},
     "output_type": "execute_result"
    }
   ],
   "source": [
    "list(aqi_2014)"
   ]
  },
  {
   "cell_type": "markdown",
   "metadata": {},
   "source": [
    "## Fix timestamps"
   ]
  },
  {
   "cell_type": "code",
   "execution_count": 8,
   "metadata": {},
   "outputs": [],
   "source": [
    "from datetime import datetime, timedelta\n",
    "# fix time format\n",
    "def timetodt(TIME):\n",
    "    try:\n",
    "        try:\n",
    "            return datetime.strptime(TIME, '%d-%m月-%y %I.%M.%S.%f000 上午')\n",
    "        except ValueError:\n",
    "            return datetime.strptime(TIME, '%d-%m月-%y %I.%M.%S.%f000 下午') + timedelta(hours=12)\n",
    "    except ValueError:\n",
    "        try:\n",
    "            return datetime.strptime(TIME, '%d-%m月 -%y %I.%M.%S.%f000 上午')\n",
    "        except ValueError:\n",
    "            return datetime.strptime(TIME, '%d-%m月 -%y %I.%M.%S.%f000 下午') + timedelta(hours=12)\n",
    "        # print(TIME,\"is not a right format\",sep=' ')"
   ]
  },
  {
   "cell_type": "code",
   "execution_count": 9,
   "metadata": {},
   "outputs": [],
   "source": [
    "# takes a like a minute or two to process\n",
    "# X['unigrams'] = X['text'].apply(lambda a: dmh.tokenize_text(a))\n",
    "# SO FREAKING FAST\n",
    "def time_fix(TABLE):\n",
    "    TABLE['UPDATETIME'] = TABLE['UPDATETIME'].apply(lambda a: timetodt(a))"
   ]
  },
  {
   "cell_type": "code",
   "execution_count": 10,
   "metadata": {},
   "outputs": [],
   "source": [
    "time_fix(aqi_2014)\n",
    "time_fix(aqi_2015)\n",
    "time_fix(aqi_2016)\n",
    "time_fix(aqi_2017)"
   ]
  },
  {
   "cell_type": "markdown",
   "metadata": {},
   "source": [
    "## Convert Output Data to pkl"
   ]
  },
  {
   "cell_type": "code",
   "execution_count": 11,
   "metadata": {},
   "outputs": [],
   "source": [
    "## save to pickle file\n",
    "aqi_2014.to_pickle(\"aqi_tw_2014.pkl\") \n",
    "aqi_2015.to_pickle(\"aqi_tw_2015.pkl\")\n",
    "aqi_2016.to_pickle(\"aqi_tw_2016.pkl\")\n",
    "aqi_2017.to_pickle(\"aqi_tw_2017.pkl\")"
   ]
  }
 ],
 "metadata": {
  "kernelspec": {
   "display_name": "Python 3",
   "language": "python",
   "name": "python3"
  },
  "language_info": {
   "codemirror_mode": {
    "name": "ipython",
    "version": 3
   },
   "file_extension": ".py",
   "mimetype": "text/x-python",
   "name": "python",
   "nbconvert_exporter": "python",
   "pygments_lexer": "ipython3",
   "version": "3.6.5"
  }
 },
 "nbformat": 4,
 "nbformat_minor": 2
}
